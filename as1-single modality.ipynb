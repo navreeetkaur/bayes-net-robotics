{
 "cells": [
  {
   "cell_type": "code",
   "execution_count": 1,
   "metadata": {},
   "outputs": [],
   "source": [
    "import random\n",
    "import numpy as np\n",
    "from enum import Enum \n",
    "import copy\n",
    "from tqdm import tqdm_notebook, tqdm"
   ]
  },
  {
   "cell_type": "code",
   "execution_count": 2,
   "metadata": {},
   "outputs": [],
   "source": [
    "import matplotlib\n",
    "import matplotlib.pyplot as plt\n",
    "import matplotlib.animation as animation\n",
    "from mpl_toolkits.mplot3d import Axes3D\n",
    "from matplotlib import cm\n",
    "from matplotlib import colors"
   ]
  },
  {
   "cell_type": "code",
   "execution_count": 3,
   "metadata": {},
   "outputs": [],
   "source": [
    "GRID_SIZE=5\n",
    "MAX_TIME = 20\n",
    "random.seed(28)"
   ]
  },
  {
   "cell_type": "markdown",
   "metadata": {},
   "source": [
    "## State"
   ]
  },
  {
   "cell_type": "code",
   "execution_count": 4,
   "metadata": {},
   "outputs": [],
   "source": [
    "class State(object):\n",
    "    def __init__(self, row, col, grid_size=GRID_SIZE):\n",
    "        self.grid_size=grid_size\n",
    "        self.row=row\n",
    "        self.col=col\n",
    "        self.pos = (row,col)\n",
    "    \n",
    "    def is_valid(self):\n",
    "        if 0<=self.row<self.grid_size and 0<=self.col<self.grid_size:\n",
    "            return True\n",
    "        else:\n",
    "            return False\n",
    "    \n",
    "    def is_corner(self):\n",
    "        if self.row==0:\n",
    "            if self.col==0 or self.col==self.grid_size-1:\n",
    "                return True\n",
    "        elif self.row==self.grid_size-1:\n",
    "            if self.col==0 or self.col==self.grid_size-1:\n",
    "                return True\n",
    "        else:\n",
    "            return False\n",
    "    \n",
    "    def is_edge(self):\n",
    "        if self.row==0:\n",
    "            if 0<self.col<self.grid_size-1:\n",
    "                return True\n",
    "        elif self.col==0:\n",
    "            if 0<self.row<self.grid_size-1:\n",
    "                return True\n",
    "        elif self.row==self.grid_size-1:\n",
    "            if 0<self.col<self.grid_size-1:\n",
    "                return True\n",
    "        elif self.col==self.grid_size-1:\n",
    "            if 0<self.row<self.grid_size-1:\n",
    "                return True\n",
    "        else:\n",
    "            return False\n",
    "        \n",
    "    def print(self):\n",
    "        print(\"(\",self.row, self.col,\")\")"
   ]
  },
  {
   "cell_type": "markdown",
   "metadata": {},
   "source": [
    "## Action, Observation(Sound)"
   ]
  },
  {
   "cell_type": "code",
   "execution_count": 5,
   "metadata": {},
   "outputs": [],
   "source": [
    "class Action(Enum):\n",
    "    UP = 0\n",
    "    DOWN = 1\n",
    "    LEFT = 2\n",
    "    RIGHT = 3\n",
    "    \n",
    "class Sound(Enum):\n",
    "#     ROTOR = 0\n",
    "    BUMP = 0\n",
    "    \n",
    "class Color(Enum):\n",
    "    DARK = 0.1\n",
    "    LIGHT = 0.9"
   ]
  },
  {
   "cell_type": "markdown",
   "metadata": {},
   "source": [
    "## Observation Model"
   ]
  },
  {
   "cell_type": "code",
   "execution_count": 6,
   "metadata": {},
   "outputs": [],
   "source": [
    "class Observation():\n",
    "    def __init__(self):\n",
    "        if GRID_SIZE==5:\n",
    "            self.bump_prob = np.array([[Color.LIGHT, Color.LIGHT, Color.LIGHT, Color.DARK, Color.DARK],\n",
    "                        [Color.LIGHT, Color.LIGHT, Color.DARK, Color.DARK, Color.DARK],\n",
    "                        [Color.DARK, Color.DARK, Color.LIGHT, Color.LIGHT, Color.DARK],\n",
    "                        [Color.DARK, Color.DARK, Color.DARK, Color.DARK, Color.DARK],\n",
    "                        [Color.DARK, Color.LIGHT, Color.LIGHT, Color.LIGHT, Color.DARK]])\n",
    "            self.bump_prob = np.array([[color.value for color in dist] for dist in self.bump_prob])\n",
    "        else:\n",
    "            self.bump_prob = np.random.random((GRID_SIZE, GRID_SIZE))\n",
    "                \n",
    "    \n",
    "    def sample(self, state, obs):\n",
    "        sound_prob = self.bump_prob[state.row][state.col]\n",
    "        sound = np.random.choice([True,False], 1, p = [sound_prob, 1.0-sound_prob])[0]\n",
    "        return sound  \n",
    "    \n",
    "    def get_bump_prob(self, state):\n",
    "        sound_prob = self.rotor_prob[state.row][state.col]\n",
    "        return sound_prob  \n",
    "    \n",
    "    def get_bump_emission_matrix(self):\n",
    "        return self.bump_prob.flatten()\n",
    "    \n",
    "    def get_emission_matrix(self):\n",
    "        bump_emission = self.get_bump_emission_matrix()\n",
    "        return np.vstack((bump_emission, 1-bump_emission)).T"
   ]
  },
  {
   "cell_type": "markdown",
   "metadata": {},
   "source": [
    "## Transition Model"
   ]
  },
  {
   "cell_type": "code",
   "execution_count": 7,
   "metadata": {},
   "outputs": [],
   "source": [
    "def get_index(row, col, grid_size=GRID_SIZE):\n",
    "    return ((grid_size*row) + col)\n",
    "\n",
    "def get_state(index, grid_size=GRID_SIZE):\n",
    "    return State(index//grid_size, index%grid_size)\n",
    "\n",
    "## transition_matrix[A][B] --> from state A to state B\n",
    "transition_matrix = np.zeros((GRID_SIZE**2, GRID_SIZE**2))\n",
    "\n",
    "for i in range(GRID_SIZE):\n",
    "    for j in range(GRID_SIZE):\n",
    "        index = get_index(i, j, GRID_SIZE)\n",
    "        state = State(i,j,GRID_SIZE)\n",
    "        if state.is_corner():\n",
    "            transition_matrix[index][index] = 0.5\n",
    "            if i==0 and j==0:\n",
    "                transition_matrix[index][get_index(i,j+1)] = 0.25\n",
    "                transition_matrix[index][get_index(i+1,j)] = 0.25\n",
    "            elif i==0 and j==GRID_SIZE-1:\n",
    "                transition_matrix[index][get_index(i,j-1)] = 0.25\n",
    "                transition_matrix[index][get_index(i+1,j)] = 0.25\n",
    "            elif i==GRID_SIZE-1 and j==0:\n",
    "                transition_matrix[index][get_index(i,j+1)] = 0.25\n",
    "                transition_matrix[index][get_index(i-1,j)] = 0.25\n",
    "            else:\n",
    "                transition_matrix[index][get_index(i,j-1)] = 0.25\n",
    "                transition_matrix[index][get_index(i-1,j)] = 0.25\n",
    "        elif state.is_edge():\n",
    "            transition_matrix[index][index] = 0.25\n",
    "            if i==0:\n",
    "                transition_matrix[index][get_index(i,j-1)] = 0.25\n",
    "                transition_matrix[index][get_index(i,j+1)] = 0.25\n",
    "                transition_matrix[index][get_index(i+1,j)] = 0.25\n",
    "            elif i==GRID_SIZE-1:\n",
    "                transition_matrix[index][get_index(i,j-1)] = 0.25\n",
    "                transition_matrix[index][get_index(i,j+1)] = 0.25\n",
    "                transition_matrix[index][get_index(i-1,j)] = 0.25\n",
    "            elif j==0:\n",
    "                transition_matrix[index][get_index(i-1,j)] = 0.25\n",
    "                transition_matrix[index][get_index(i+1,j)] = 0.25\n",
    "                transition_matrix[index][get_index(i,j+1)] = 0.25\n",
    "            else:\n",
    "                transition_matrix[index][get_index(i-1,j)] = 0.25\n",
    "                transition_matrix[index][get_index(i+1,j)] = 0.25\n",
    "                transition_matrix[index][get_index(i,j-1)] = 0.25\n",
    "        else:\n",
    "            transition_matrix[index][get_index(i+1,j)] = 0.25\n",
    "            transition_matrix[index][get_index(i-1,j)] = 0.25\n",
    "            transition_matrix[index][get_index(i,j+1)] = 0.25\n",
    "            transition_matrix[index][get_index(i,j-1)] = 0.25"
   ]
  },
  {
   "cell_type": "code",
   "execution_count": 8,
   "metadata": {
    "scrolled": true
   },
   "outputs": [],
   "source": [
    "# print(transition_matrix)"
   ]
  },
  {
   "cell_type": "markdown",
   "metadata": {},
   "source": [
    "## Initial Probability Distribution"
   ]
  },
  {
   "cell_type": "code",
   "execution_count": 9,
   "metadata": {
    "scrolled": true
   },
   "outputs": [],
   "source": [
    "init_dist_matrix = float(1/(GRID_SIZE*GRID_SIZE))*np.ones((GRID_SIZE, GRID_SIZE))\n",
    "init_dist_matrix = init_dist_matrix.flatten()"
   ]
  },
  {
   "cell_type": "markdown",
   "metadata": {},
   "source": [
    "## Environment"
   ]
  },
  {
   "cell_type": "code",
   "execution_count": 10,
   "metadata": {},
   "outputs": [],
   "source": [
    "class Environment():\n",
    "    def __init__(self, grid_size=GRID_SIZE):\n",
    "        self.grid_size = grid_size\n",
    "        self.obs = Observation()\n",
    "        self.init_state = self.reset()\n",
    "        \n",
    "    def reset(self):\n",
    "        return State(random.randrange(self.grid_size-1), random.randrange(self.grid_size-1))\n",
    "\n",
    "    \n",
    "    def get_next_state(self, state, action):\n",
    "        next_state_dict = {Action.UP: State(state.row-1, state.col),\n",
    "                           Action.DOWN: State(state.row+1, state.col),\n",
    "                           Action.LEFT: State(state.row, state.col-1),\n",
    "                           Action.RIGHT: State(state.row, state.col+1)}\n",
    "        next_state = next_state_dict[action]\n",
    "        if next_state.is_valid():\n",
    "            return next_state\n",
    "        else:\n",
    "            return state\n",
    "        \n",
    "    def get_obs(self, state):\n",
    "        bump = self.obs.sample(state, Sound.BUMP)\n",
    "        if bump:\n",
    "            return 0\n",
    "        else:\n",
    "            return 1\n",
    "    \n",
    "    def step(self, state):\n",
    "        action = Action(random.randrange(4))\n",
    "        next_state = self.get_next_state(state, action)\n",
    "        observation = self.get_obs(next_state)\n",
    "        return next_state, action, observation"
   ]
  },
  {
   "cell_type": "code",
   "execution_count": 11,
   "metadata": {},
   "outputs": [],
   "source": [
    "def simulate(env, time_steps):\n",
    "    states = []\n",
    "    actions = []\n",
    "    observations = []\n",
    "    state = env.init_state\n",
    "    states.append(state)\n",
    "    observations.append(env.get_obs(state))\n",
    "    \n",
    "    for time in range(time_steps-1):\n",
    "        state, action, obs = env.step(state)\n",
    "        actions.append(action)\n",
    "        states.append(state)\n",
    "        observations.append(obs)\n",
    "    return states, actions, observations\n",
    "#     return states, observations"
   ]
  },
  {
   "cell_type": "code",
   "execution_count": 12,
   "metadata": {},
   "outputs": [],
   "source": [
    "env = Environment()\n",
    "states, actions, observations = simulate(env,MAX_TIME)"
   ]
  },
  {
   "cell_type": "code",
   "execution_count": 13,
   "metadata": {},
   "outputs": [],
   "source": [
    "# for i in range(len(observations)-1):\n",
    "#     states[i].print()\n",
    "#     print(actions[i], observations[i])"
   ]
  },
  {
   "cell_type": "markdown",
   "metadata": {},
   "source": [
    "## Filtering"
   ]
  },
  {
   "cell_type": "code",
   "execution_count": 14,
   "metadata": {},
   "outputs": [
    {
     "data": {
      "text/plain": [
       "((25,), (25, 2), (25, 25), 20)"
      ]
     },
     "execution_count": 14,
     "metadata": {},
     "output_type": "execute_result"
    }
   ],
   "source": [
    "Pi = init_dist_matrix\n",
    "E = env.obs.get_emission_matrix() # emission matrix\n",
    "T = transition_matrix # transition matrix\n",
    "Pi.shape, E.shape, T.shape, len(observations)"
   ]
  },
  {
   "cell_type": "code",
   "execution_count": 15,
   "metadata": {},
   "outputs": [],
   "source": [
    "def normalise(vector):\n",
    "    norm_factor = vector.sum(axis=1)\n",
    "    print(norm_factor)\n",
    "    vector /= norm_factor[:, np.newaxis] \n",
    "    return vector"
   ]
  },
  {
   "cell_type": "code",
   "execution_count": 16,
   "metadata": {},
   "outputs": [],
   "source": [
    "def forward(observations, Pi, E, T):\n",
    "    alpha = np.zeros((len(observations), Pi.shape[0]))\n",
    "    alpha[0,:] = Pi * E[:, observations[0]] \n",
    "    for t in range(1,len(observations)):\n",
    "        for j in range(Pi.shape[0]):\n",
    "            alpha[t, j] = np.dot(T[:,j], alpha[t-1, :]) * E[j, observations[t]]\n",
    "    alpha = normalise(alpha)\n",
    "    return alpha"
   ]
  },
  {
   "cell_type": "code",
   "execution_count": 17,
   "metadata": {},
   "outputs": [
    {
     "name": "stdout",
     "output_type": "stream",
     "text": [
      "[4.20000000e-01 2.27600000e-01 8.38800000e-02 4.46800000e-02\n",
      " 3.01294000e-02 2.10306875e-02 5.85024138e-03 2.42967537e-03\n",
      " 1.31877886e-03 5.29443198e-04 2.90119561e-04 1.96335906e-04\n",
      " 1.36984915e-04 9.84883096e-05 7.14675043e-05 1.91654468e-05\n",
      " 1.13156231e-05 7.12108310e-06 5.06415163e-06 1.41596112e-06]\n"
     ]
    }
   ],
   "source": [
    "alpha = forward(observations, Pi, E, T)"
   ]
  },
  {
   "cell_type": "code",
   "execution_count": 18,
   "metadata": {
    "scrolled": true
   },
   "outputs": [],
   "source": [
    "# for t in range(MAX_TIME):\n",
    "#     est_state = get_state(np.argmax(alpha[t]))\n",
    "#     est_state.print()\n",
    "#     states[t].print()\n",
    "#     print()"
   ]
  },
  {
   "cell_type": "markdown",
   "metadata": {},
   "source": [
    "## Plots"
   ]
  },
  {
   "cell_type": "markdown",
   "metadata": {},
   "source": [
    "### Colormaps"
   ]
  },
  {
   "cell_type": "code",
   "execution_count": 39,
   "metadata": {},
   "outputs": [],
   "source": [
    "def plot(data, title):\n",
    "    plt.imshow(data, cmap='bone', origin='upper')\n",
    "    plt.title(title)\n",
    "    plt.show()"
   ]
  },
  {
   "cell_type": "markdown",
   "metadata": {},
   "source": [
    "### Log-likelihood over states"
   ]
  },
  {
   "cell_type": "code",
   "execution_count": 19,
   "metadata": {},
   "outputs": [],
   "source": [
    "def plot_pred_ground(alpha, title):\n",
    "    fig, axes = plt.subplots(nrows=2, ncols=5, figsize=(8,8))\n",
    "    fig.suptitle(title)\n",
    "    t = 0\n",
    "    for ax in axes.flat:\n",
    "        ax.set_title('t='+str(t))\n",
    "        im = ax.imshow(np.log(alpha[t].reshape(GRID_SIZE,GRID_SIZE)), cmap='bone', origin='upper')\n",
    "        t += 1\n",
    "    fig.colorbar(im, ax=axes.ravel().tolist())\n",
    "    plt.show()"
   ]
  },
  {
   "cell_type": "code",
   "execution_count": 21,
   "metadata": {},
   "outputs": [
    {
     "name": "stdout",
     "output_type": "stream",
     "text": [
      "Using matplotlib backend: MacOSX\n"
     ]
    }
   ],
   "source": [
    "%matplotlib"
   ]
  },
  {
   "cell_type": "code",
   "execution_count": 22,
   "metadata": {},
   "outputs": [],
   "source": [
    "plot_pred_ground(alpha, \"Log Likelihood - Single Modality(Bump) - Filtering\")"
   ]
  },
  {
   "cell_type": "code",
   "execution_count": 20,
   "metadata": {
    "scrolled": true
   },
   "outputs": [],
   "source": [
    "# def plot_likelihood(alpha):\n",
    "#     %matplotlib\n",
    "#     im = None\n",
    "#     for t in range(MAX_TIME):\n",
    "#         data = np.log(alpha[t].reshape(GRID_SIZE,GRID_SIZE))\n",
    "#         if not im:\n",
    "#             im = plt.imshow(data, cmap='bone', origin='upper')\n",
    "#             plt.colorbar(im)\n",
    "#         else:\n",
    "#             im.set_data(data)\n",
    "#         plt.title(\"Log-likelood at time \"+ str(t))\n",
    "#         plt.draw()\n",
    "#         plt.pause(0.2)\n",
    "#     plt.close()"
   ]
  },
  {
   "cell_type": "code",
   "execution_count": 21,
   "metadata": {},
   "outputs": [
    {
     "data": {
      "image/png": "[encoded data removed]",
      "text/plain": [
       "<Figure size 432x288 with 1 Axes>"
      ]
     },
     "metadata": {
      "needs_background": "light"
     },
     "output_type": "display_data"
    },
    {
     "data": {
      "image/png": "[encoded data removed]",
      "text/plain": [
       "<Figure size 432x288 with 1 Axes>"
      ]
     },
     "metadata": {
      "needs_background": "light"
     },
     "output_type": "display_data"
    },
    {
     "data": {
      "image/png": "[encoded data removed]",
      "text/plain": [
       "<Figure size 432x288 with 1 Axes>"
      ]
     },
     "metadata": {
      "needs_background": "light"
     },
     "output_type": "display_data"
    },
    {
     "data": {
      "image/png": "[encoded data removed]",
      "text/plain": [
       "<Figure size 432x288 with 1 Axes>"
      ]
     },
     "metadata": {
      "needs_background": "light"
     },
     "output_type": "display_data"
    },
    {
     "data": {
      "image/png": "[encoded data removed]",
      "text/plain": [
       "<Figure size 432x288 with 1 Axes>"
      ]
     },
     "metadata": {
      "needs_background": "light"
     },
     "output_type": "display_data"
    },
    {
     "data": {
      "image/png": "[encoded data removed]",
      "text/plain": [
       "<Figure size 432x288 with 1 Axes>"
      ]
     },
     "metadata": {
      "needs_background": "light"
     },
     "output_type": "display_data"
    },
    {
     "data": {
      "image/png": "[encoded data removed]",
      "text/plain": [
       "<Figure size 432x288 with 1 Axes>"
      ]
     },
     "metadata": {
      "needs_background": "light"
     },
     "output_type": "display_data"
    },
    {
     "data": {
      "image/png": "[encoded data removed]",
      "text/plain": [
       "<Figure size 432x288 with 1 Axes>"
      ]
     },
     "metadata": {
      "needs_background": "light"
     },
     "output_type": "display_data"
    },
    {
     "data": {
      "image/png": "[encoded data removed]",
      "text/plain": [
       "<Figure size 432x288 with 1 Axes>"
      ]
     },
     "metadata": {
      "needs_background": "light"
     },
     "output_type": "display_data"
    },
    {
     "data": {
      "image/png": "[encoded data removed]",
      "text/plain": [
       "<Figure size 432x288 with 1 Axes>"
      ]
     },
     "metadata": {
      "needs_background": "light"
     },
     "output_type": "display_data"
    },
    {
     "data": {
      "image/png": "[encoded data removed]",
      "text/plain": [
       "<Figure size 432x288 with 1 Axes>"
      ]
     },
     "metadata": {
      "needs_background": "light"
     },
     "output_type": "display_data"
    },
    {
     "data": {
      "image/png": "[encoded data removed]",
      "text/plain": [
       "<Figure size 432x288 with 1 Axes>"
      ]
     },
     "metadata": {
      "needs_background": "light"
     },
     "output_type": "display_data"
    },
    {
     "data": {
      "image/png": "[encoded data removed]",
      "text/plain": [
       "<Figure size 432x288 with 1 Axes>"
      ]
     },
     "metadata": {
      "needs_background": "light"
     },
     "output_type": "display_data"
    },
    {
     "data": {
      "image/png": "[encoded data removed]",
      "text/plain": [
       "<Figure size 432x288 with 1 Axes>"
      ]
     },
     "metadata": {
      "needs_background": "light"
     },
     "output_type": "display_data"
    },
    {
     "data": {
      "image/png": "[encoded data removed]",
      "text/plain": [
       "<Figure size 432x288 with 1 Axes>"
      ]
     },
     "metadata": {
      "needs_background": "light"
     },
     "output_type": "display_data"
    },
    {
     "data": {
      "image/png": "[encoded data removed]",
      "text/plain": [
       "<Figure size 432x288 with 1 Axes>"
      ]
     },
     "metadata": {
      "needs_background": "light"
     },
     "output_type": "display_data"
    },
    {
     "data": {
      "image/png": "[encoded data removed]",
      "text/plain": [
       "<Figure size 432x288 with 1 Axes>"
      ]
     },
     "metadata": {
      "needs_background": "light"
     },
     "output_type": "display_data"
    },
    {
     "data": {
      "image/png": "[encoded data removed]",
      "text/plain": [
       "<Figure size 432x288 with 1 Axes>"
      ]
     },
     "metadata": {
      "needs_background": "light"
     },
     "output_type": "display_data"
    },
    {
     "data": {
      "image/png": "[encoded data removed]",
      "text/plain": [
       "<Figure size 432x288 with 1 Axes>"
      ]
     },
     "metadata": {
      "needs_background": "light"
     },
     "output_type": "display_data"
    },
    {
     "data": {
      "image/png": "[encoded data removed]",
      "text/plain": [
       "<Figure size 432x288 with 1 Axes>"
      ]
     },
     "metadata": {
      "needs_background": "light"
     },
     "output_type": "display_data"
    }
   ],
   "source": [
    "for t in range(MAX_TIME):\n",
    "    data = np.log(alpha[t].reshape(GRID_SIZE,GRID_SIZE))\n",
    "    plot(data,\"Log-likelood at time \"+ str(t))"
   ]
  },
  {
   "cell_type": "code",
   "execution_count": 23,
   "metadata": {},
   "outputs": [],
   "source": [
    "# plot_likelihood(alpha)"
   ]
  },
  {
   "cell_type": "markdown",
   "metadata": {},
   "source": [
    "## Most probable state"
   ]
  },
  {
   "cell_type": "code",
   "execution_count": 23,
   "metadata": {
    "scrolled": true
   },
   "outputs": [],
   "source": [
    "# def plot_ground_pred(data):\n",
    "#     %matplotlib inline\n",
    "#     for t in range(MAX_TIME):\n",
    "#         index = np.argmax(alpha[t])\n",
    "#         pred_state = get_state(index)\n",
    "#         true_state = states[t]\n",
    "#         data = np.zeros((GRID_SIZE, GRID_SIZE))\n",
    "#         if pred_state.row==true_state.row and pred_state.col==true_state.col:\n",
    "#             data[true_state.row, true_state.col] = -0.25\n",
    "#         else:\n",
    "#             data[pred_state.row, pred_state.col] = -1.0\n",
    "#             data[true_state.row, true_state.col] = -0.75\n",
    "#         plt.imshow(data, cmap='pink', origin='upper')\n",
    "#         plt.title(\"Predicted v/s Ground Truth at time \"+str(t))\n",
    "#         plt.show()"
   ]
  },
  {
   "cell_type": "code",
   "execution_count": 33,
   "metadata": {},
   "outputs": [],
   "source": [
    "def plot_ground_pred(data, title):\n",
    "    fig, axes = plt.subplots(nrows=2, ncols=5, figsize=(8,8))\n",
    "    fig.suptitle(title)\n",
    "    t = 0\n",
    "    for ax in axes.flat:\n",
    "        ax.set_title('t='+str(t))\n",
    "        index = np.argmax(alpha[t])\n",
    "        pred_state = get_state(index)\n",
    "        true_state = states[t]\n",
    "        data = np.zeros((GRID_SIZE, GRID_SIZE))\n",
    "        if pred_state.row==true_state.row and pred_state.col==true_state.col:\n",
    "            data[true_state.row, true_state.col] = -0.25\n",
    "        else:\n",
    "            data[pred_state.row, pred_state.col] = -0.75\n",
    "            data[true_state.row, true_state.col] = -1.0\n",
    "        im = ax.imshow(data, cmap='pink', origin='upper')\n",
    "        t+=1\n",
    "    fig.colorbar(im, ax=axes.ravel().tolist())\n",
    "    plt.show()"
   ]
  },
  {
   "cell_type": "code",
   "execution_count": 25,
   "metadata": {},
   "outputs": [],
   "source": [
    "plot_ground_pred(alpha, \"Predicted v/s Ground Truth - Single Modality\")"
   ]
  },
  {
   "cell_type": "markdown",
   "metadata": {},
   "source": [
    "## Prediction"
   ]
  },
  {
   "cell_type": "code",
   "execution_count": 26,
   "metadata": {},
   "outputs": [],
   "source": [
    "prob_dist_last_state = alpha[-1]"
   ]
  },
  {
   "cell_type": "code",
   "execution_count": 27,
   "metadata": {},
   "outputs": [],
   "source": [
    "def predict(prob_dist_last_state, T):\n",
    "    prob_dist_next_state = np.matmul(T, prob_dist_last_state)\n",
    "    return prob_dist_next_state"
   ]
  },
  {
   "cell_type": "code",
   "execution_count": 28,
   "metadata": {},
   "outputs": [],
   "source": [
    "prob_dist_next_state = predict(prob_dist_last_state, T)"
   ]
  },
  {
   "cell_type": "code",
   "execution_count": 29,
   "metadata": {},
   "outputs": [],
   "source": [
    "def predict_multiple(prob_dist_last_state, T, steps=5):\n",
    "    likelihoods = []\n",
    "    for t in range(steps):\n",
    "        prob_dist_last_state = np.matmul(T, prob_dist_last_state)\n",
    "        likelihoods.append(prob_dist_last_state)\n",
    "    likelihoods = [np.log(l.reshape(GRID_SIZE, GRID_SIZE)) for l in likelihoods]\n",
    "    return likelihoods"
   ]
  },
  {
   "cell_type": "code",
   "execution_count": 30,
   "metadata": {},
   "outputs": [],
   "source": [
    "likelihoods = predict_multiple(prob_dist_last_state, T)"
   ]
  },
  {
   "cell_type": "code",
   "execution_count": 45,
   "metadata": {},
   "outputs": [],
   "source": [
    "# for t,probs in enumerate(likelihoods):\n",
    "#     plot(probs, \"Time t+\"+str(t+1))\n",
    "fig, axes = plt.subplots(nrows=1, ncols=5, figsize=(20,4))\n",
    "fig.suptitle(\"Predictive Dist. over future location\")\n",
    "t = 0\n",
    "for ax in axes.flat:\n",
    "    ax.set_title('t='+str(t+10))\n",
    "    im = ax.imshow(likelihoods[t], cmap='bone', origin='upper')\n",
    "    t+=1\n",
    "fig.colorbar(im, ax=axes.ravel().tolist())\n",
    "plt.show()"
   ]
  },
  {
   "cell_type": "code",
   "execution_count": 50,
   "metadata": {},
   "outputs": [],
   "source": [
    "fig, axes = plt.subplots(nrows=1, ncols=2, figsize=(4,4))\n",
    "fig.suptitle(\"Predictive Dist. over next state given all evidence\")\n",
    "t = 0\n",
    "for ax in axes.flat:\n",
    "    ax.set_title('t='+str(10))\n",
    "    im = ax.imshow(likelihoods[0], cmap='bone', origin='upper')\n",
    "    t+=1\n",
    "fig.colorbar(im, ax=axes.ravel().tolist())\n",
    "plt.show()"
   ]
  },
  {
   "cell_type": "code",
   "execution_count": null,
   "metadata": {},
   "outputs": [],
   "source": []
  }
 ],
 "metadata": {
  "kernelspec": {
   "display_name": "Python 3",
   "language": "python",
   "name": "python3"
  },
  "language_info": {
   "codemirror_mode": {
    "name": "ipython",
    "version": 3
   },
   "file_extension": ".py",
   "mimetype": "text/x-python",
   "name": "python",
   "nbconvert_exporter": "python",
   "pygments_lexer": "ipython3",
   "version": "3.7.0b3"
  }
 },
 "nbformat": 4,
 "nbformat_minor": 2
}
