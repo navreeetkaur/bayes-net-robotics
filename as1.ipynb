{
 "cells": [
  {
   "cell_type": "code",
   "execution_count": 58,
   "metadata": {},
   "outputs": [],
   "source": [
    "import random\n",
    "import numpy as np\n",
    "from enum import Enum \n",
    "import copy\n",
    "from tqdm import tqdm_notebook, tqdm"
   ]
  },
  {
   "cell_type": "code",
   "execution_count": 59,
   "metadata": {},
   "outputs": [],
   "source": [
    "import matplotlib\n",
    "import matplotlib.pyplot as plt\n",
    "import matplotlib.animation as animation\n",
    "from mpl_toolkits.mplot3d import Axes3D\n",
    "from matplotlib import cm\n",
    "from matplotlib import colors"
   ]
  },
  {
   "cell_type": "code",
   "execution_count": 60,
   "metadata": {},
   "outputs": [],
   "source": [
    "GRID_SIZE=25\n",
    "MAX_TIME = 10\n",
    "random.seed(28)"
   ]
  },
  {
   "cell_type": "markdown",
   "metadata": {},
   "source": [
    "## State"
   ]
  },
  {
   "cell_type": "code",
   "execution_count": 61,
   "metadata": {},
   "outputs": [],
   "source": [
    "class State(object):\n",
    "    def __init__(self, row, col, grid_size=GRID_SIZE):\n",
    "        self.grid_size=grid_size\n",
    "        self.row=row\n",
    "        self.col=col\n",
    "        self.pos = (row,col)\n",
    "    \n",
    "    def is_valid(self):\n",
    "        if 0<=self.row<self.grid_size and 0<=self.col<self.grid_size:\n",
    "            return True\n",
    "        else:\n",
    "            return False\n",
    "    \n",
    "    def is_corner(self):\n",
    "        if self.row==0:\n",
    "            if self.col==0 or self.col==self.grid_size-1:\n",
    "                return True\n",
    "        elif self.row==self.grid_size-1:\n",
    "            if self.col==0 or self.col==self.grid_size-1:\n",
    "                return True\n",
    "        else:\n",
    "            return False\n",
    "    \n",
    "    def is_edge(self):\n",
    "        if self.row==0:\n",
    "            if 0<self.col<self.grid_size-1:\n",
    "                return True\n",
    "        elif self.col==0:\n",
    "            if 0<self.row<self.grid_size-1:\n",
    "                return True\n",
    "        elif self.row==self.grid_size-1:\n",
    "            if 0<self.col<self.grid_size-1:\n",
    "                return True\n",
    "        elif self.col==self.grid_size-1:\n",
    "            if 0<self.row<self.grid_size-1:\n",
    "                return True\n",
    "        else:\n",
    "            return False\n",
    "        \n",
    "    def print(self):\n",
    "        return(\"(\"+str(self.row)+\" , \"+str(self.col)+\")\")"
   ]
  },
  {
   "cell_type": "markdown",
   "metadata": {},
   "source": [
    "## Action, Observation(Sound)"
   ]
  },
  {
   "cell_type": "code",
   "execution_count": 62,
   "metadata": {},
   "outputs": [],
   "source": [
    "class Action(Enum):\n",
    "    UP = 0\n",
    "    DOWN = 1\n",
    "    LEFT = 2\n",
    "    RIGHT = 3\n",
    "    \n",
    "class Sound(Enum):\n",
    "    ROTOR = 0\n",
    "    BUMP = 1\n",
    "    \n",
    "class Color(Enum):\n",
    "    DARK = 0.1\n",
    "    LIGHT = 0.9"
   ]
  },
  {
   "cell_type": "markdown",
   "metadata": {},
   "source": [
    "## Observation Model"
   ]
  },
  {
   "cell_type": "code",
   "execution_count": 63,
   "metadata": {},
   "outputs": [],
   "source": [
    "class Observation():\n",
    "    def __init__(self):\n",
    "        if GRID_SIZE==5:\n",
    "            self.rotor_prob = [[Color.DARK, Color.DARK, Color.DARK, Color.DARK, Color.DARK],\n",
    "                        [Color.LIGHT, Color.DARK, Color.LIGHT, Color.LIGHT, Color.DARK],\n",
    "                        [Color.LIGHT, Color.DARK, Color.LIGHT, Color.LIGHT, Color.LIGHT],\n",
    "                        [Color.DARK, Color.LIGHT, Color.LIGHT, Color.DARK, Color.DARK],\n",
    "                        [Color.DARK, Color.DARK, Color.DARK, Color.LIGHT, Color.DARK]]\n",
    "            self.bump_prob = np.array([[Color.LIGHT, Color.LIGHT, Color.LIGHT, Color.DARK, Color.DARK],\n",
    "                        [Color.LIGHT, Color.LIGHT, Color.DARK, Color.DARK, Color.DARK],\n",
    "                        [Color.DARK, Color.DARK, Color.LIGHT, Color.LIGHT, Color.DARK],\n",
    "                        [Color.DARK, Color.DARK, Color.DARK, Color.DARK, Color.DARK],\n",
    "                        [Color.DARK, Color.LIGHT, Color.LIGHT, Color.LIGHT, Color.DARK]])\n",
    "            self.rotor_prob = np.array([[color.value for color in dist] for dist in self.rotor_prob])\n",
    "            self.bump_prob = np.array([[color.value for color in dist] for dist in self.bump_prob])\n",
    "        else:\n",
    "            self.rotor_prob = np.random.random((GRID_SIZE, GRID_SIZE))\n",
    "            self.bump_prob = np.random.random((GRID_SIZE, GRID_SIZE))\n",
    "                \n",
    "    \n",
    "    def sample(self, state, obs):\n",
    "#         state.print()\n",
    "        if obs==Sound.ROTOR:\n",
    "            sound_prob = self.rotor_prob[state.row][state.col]\n",
    "        else:\n",
    "            sound_prob = self.bump_prob[state.row][state.col]\n",
    "        sound = np.random.choice([True,False], 1, p = [sound_prob, 1.0-sound_prob])[0]\n",
    "        return sound   \n",
    "    \n",
    "    def get_rotor_prob(self, state):\n",
    "        sound_prob = self.rotor_prob[state.row][state.col]\n",
    "        return sound_prob\n",
    "    \n",
    "    def get_bump_prob(self, state):\n",
    "        sound_prob = self.rotor_prob[state.row][state.col]\n",
    "        return sound_prob    \n",
    "    \n",
    "    def get_rotor_emission_matrix(self):\n",
    "        return self.rotor_prob.flatten()\n",
    "    \n",
    "    def get_bump_emission_matrix(self):\n",
    "        return self.bump_prob.flatten()\n",
    "    \n",
    "    def get_emission_matrix(self):\n",
    "        rotor_emission = self.get_rotor_emission_matrix()\n",
    "        bump_emission = self.get_bump_emission_matrix()\n",
    "        obs_zero = np.multiply(rotor_emission, bump_emission)\n",
    "        obs_one = np.multiply(rotor_emission, 1 - bump_emission)\n",
    "        obs_two = np.multiply(1-rotor_emission, bump_emission)\n",
    "        obs_three = np.multiply(1-rotor_emission, 1-bump_emission)\n",
    "        return np.vstack((obs_zero, obs_one, obs_two, obs_three)).T"
   ]
  },
  {
   "cell_type": "markdown",
   "metadata": {},
   "source": [
    "## Transition Model"
   ]
  },
  {
   "cell_type": "code",
   "execution_count": 64,
   "metadata": {},
   "outputs": [],
   "source": [
    "def get_index(row, col, grid_size=GRID_SIZE):\n",
    "    return ((grid_size*row) + col)\n",
    "\n",
    "def get_state(index, grid_size=GRID_SIZE):\n",
    "    return State(index//grid_size, index%grid_size)\n",
    "\n",
    "## transition_matrix[A][B] --> from state A to state B\n",
    "transition_matrix = np.zeros((GRID_SIZE**2, GRID_SIZE**2))\n",
    "\n",
    "for i in range(GRID_SIZE):\n",
    "    for j in range(GRID_SIZE):\n",
    "        index = get_index(i, j, GRID_SIZE)\n",
    "        state = State(i,j,GRID_SIZE)\n",
    "        if state.is_corner():\n",
    "            transition_matrix[index][index] = 0.5\n",
    "            if i==0 and j==0:\n",
    "                transition_matrix[index][get_index(i,j+1)] = 0.25\n",
    "                transition_matrix[index][get_index(i+1,j)] = 0.25\n",
    "            elif i==0 and j==GRID_SIZE-1:\n",
    "                transition_matrix[index][get_index(i,j-1)] = 0.25\n",
    "                transition_matrix[index][get_index(i+1,j)] = 0.25\n",
    "            elif i==GRID_SIZE-1 and j==0:\n",
    "                transition_matrix[index][get_index(i,j+1)] = 0.25\n",
    "                transition_matrix[index][get_index(i-1,j)] = 0.25\n",
    "            else:\n",
    "                transition_matrix[index][get_index(i,j-1)] = 0.25\n",
    "                transition_matrix[index][get_index(i-1,j)] = 0.25\n",
    "        elif state.is_edge():\n",
    "            transition_matrix[index][index] = 0.25\n",
    "            if i==0:\n",
    "                transition_matrix[index][get_index(i,j-1)] = 0.25\n",
    "                transition_matrix[index][get_index(i,j+1)] = 0.25\n",
    "                transition_matrix[index][get_index(i+1,j)] = 0.25\n",
    "            elif i==GRID_SIZE-1:\n",
    "                transition_matrix[index][get_index(i,j-1)] = 0.25\n",
    "                transition_matrix[index][get_index(i,j+1)] = 0.25\n",
    "                transition_matrix[index][get_index(i-1,j)] = 0.25\n",
    "            elif j==0:\n",
    "                transition_matrix[index][get_index(i-1,j)] = 0.25\n",
    "                transition_matrix[index][get_index(i+1,j)] = 0.25\n",
    "                transition_matrix[index][get_index(i,j+1)] = 0.25\n",
    "            else:\n",
    "                transition_matrix[index][get_index(i-1,j)] = 0.25\n",
    "                transition_matrix[index][get_index(i+1,j)] = 0.25\n",
    "                transition_matrix[index][get_index(i,j-1)] = 0.25\n",
    "        else:\n",
    "            transition_matrix[index][get_index(i+1,j)] = 0.25\n",
    "            transition_matrix[index][get_index(i-1,j)] = 0.25\n",
    "            transition_matrix[index][get_index(i,j+1)] = 0.25\n",
    "            transition_matrix[index][get_index(i,j-1)] = 0.25"
   ]
  },
  {
   "cell_type": "markdown",
   "metadata": {},
   "source": [
    "## Initial Probability Distribution"
   ]
  },
  {
   "cell_type": "code",
   "execution_count": 65,
   "metadata": {
    "scrolled": true
   },
   "outputs": [],
   "source": [
    "init_dist_matrix = float(1/(GRID_SIZE*GRID_SIZE))*np.ones((GRID_SIZE, GRID_SIZE))\n",
    "init_dist_matrix = init_dist_matrix.flatten()"
   ]
  },
  {
   "cell_type": "markdown",
   "metadata": {},
   "source": [
    "## Environment"
   ]
  },
  {
   "cell_type": "code",
   "execution_count": 66,
   "metadata": {},
   "outputs": [],
   "source": [
    "class Environment():\n",
    "    def __init__(self, grid_size=GRID_SIZE):\n",
    "        self.grid_size = grid_size\n",
    "        self.obs = Observation()\n",
    "        self.init_state = self.reset()\n",
    "        \n",
    "    def reset(self):\n",
    "        return State(random.randrange(self.grid_size-1), random.randrange(self.grid_size-1))\n",
    "\n",
    "    \n",
    "    def get_next_state(self, state, action):\n",
    "        next_state_dict = {Action.UP: State(state.row-1, state.col),\n",
    "                           Action.DOWN: State(state.row+1, state.col),\n",
    "                           Action.LEFT: State(state.row, state.col-1),\n",
    "                           Action.RIGHT: State(state.row, state.col+1)}\n",
    "        next_state = next_state_dict[action]\n",
    "        if next_state.is_valid():\n",
    "            return next_state\n",
    "        else:\n",
    "            return state\n",
    "        \n",
    "    def get_obs(self, state):\n",
    "        rotor = self.obs.sample(state, Sound.ROTOR)\n",
    "        bump = self.obs.sample(state, Sound.BUMP)\n",
    "        if rotor and bump:\n",
    "            return 0\n",
    "        elif rotor and (not bump):\n",
    "            return 1\n",
    "        elif (not rotor) and bump:\n",
    "            return 2\n",
    "        else:\n",
    "            return 3\n",
    "    \n",
    "    def step(self, state):\n",
    "        action = Action(random.randrange(4))\n",
    "        next_state = self.get_next_state(state, action)\n",
    "        observation = self.get_obs(next_state)\n",
    "        return next_state, action, observation"
   ]
  },
  {
   "cell_type": "code",
   "execution_count": 67,
   "metadata": {},
   "outputs": [],
   "source": [
    "def simulate(env, time_steps):\n",
    "    states = []\n",
    "    actions = []\n",
    "    observations = []\n",
    "    state = env.init_state\n",
    "    states.append(state)\n",
    "    observations.append(env.get_obs(state))\n",
    "    \n",
    "    for time in range(time_steps-1):\n",
    "        state, action, obs = env.step(state)\n",
    "        actions.append(action)\n",
    "        states.append(state)\n",
    "        observations.append(obs)\n",
    "    return states, actions, observations\n",
    "#     return states, observations"
   ]
  },
  {
   "cell_type": "code",
   "execution_count": 68,
   "metadata": {},
   "outputs": [],
   "source": [
    "env = Environment()\n",
    "states, actions, observations = simulate(env,MAX_TIME)"
   ]
  },
  {
   "cell_type": "code",
   "execution_count": 69,
   "metadata": {},
   "outputs": [],
   "source": [
    "def print_obs(num):\n",
    "    if num==0:\n",
    "        return \"R,B\"\n",
    "    elif num==1:\n",
    "        return \"R,~B\"\n",
    "    elif num==2:\n",
    "        return \"~R,B\"\n",
    "    else:\n",
    "        return \"~R,~B\""
   ]
  },
  {
   "cell_type": "code",
   "execution_count": 70,
   "metadata": {
    "scrolled": true
   },
   "outputs": [
    {
     "name": "stdout",
     "output_type": "stream",
     "text": [
      "[[ 0 ]]   :  (3 , 23)     Action.DOWN      R,B\n",
      "[[ 1 ]]   :  (4 , 23)     Action.DOWN      R,~B\n",
      "[[ 2 ]]   :  (5 , 23)     Action.DOWN      ~R,~B\n",
      "[[ 3 ]]   :  (6 , 23)     Action.DOWN      R,B\n",
      "[[ 4 ]]   :  (7 , 23)     Action.RIGHT      R,B\n",
      "[[ 5 ]]   :  (7 , 24)     Action.RIGHT      ~R,B\n",
      "[[ 6 ]]   :  (7 , 24)     Action.DOWN      R,~B\n",
      "[[ 7 ]]   :  (8 , 24)     Action.DOWN      R,B\n",
      "[[ 8 ]]   :  (9 , 24)     Action.DOWN      R,B\n"
     ]
    }
   ],
   "source": [
    "for i in range(len(observations)-1):\n",
    "    print(\"[[ \"+str(i)+\" ]]   : \",states[i].print(), \"   \", actions[i], \"    \", print_obs(observations[i]))"
   ]
  },
  {
   "cell_type": "markdown",
   "metadata": {},
   "source": [
    "## Filtering"
   ]
  },
  {
   "cell_type": "code",
   "execution_count": 71,
   "metadata": {},
   "outputs": [],
   "source": [
    "def normalise(vector):\n",
    "    norm_factor = vector.sum(axis=1)\n",
    "#     print(norm_factor)\n",
    "    vector /= norm_factor[:, np.newaxis] \n",
    "    return vector"
   ]
  },
  {
   "cell_type": "code",
   "execution_count": 72,
   "metadata": {},
   "outputs": [
    {
     "data": {
      "text/plain": [
       "((625,), (625, 4), (625, 625), 10)"
      ]
     },
     "execution_count": 72,
     "metadata": {},
     "output_type": "execute_result"
    }
   ],
   "source": [
    "Pi = init_dist_matrix\n",
    "E = env.obs.get_emission_matrix() # emission matrix\n",
    "T = transition_matrix # transition matrix\n",
    "Pi.shape, E.shape, T.shape, len(observations)"
   ]
  },
  {
   "cell_type": "markdown",
   "metadata": {},
   "source": [
    "### Forward Algorithm"
   ]
  },
  {
   "cell_type": "code",
   "execution_count": 73,
   "metadata": {},
   "outputs": [],
   "source": [
    "def forward(observations, Pi, E, T):\n",
    "    alpha = np.zeros((len(observations), Pi.shape[0]))\n",
    "    alpha[0,:] = Pi * E[:, observations[0]] \n",
    "    for t in range(1,len(observations)):\n",
    "        for j in range(Pi.shape[0]):\n",
    "            alpha[t, j] = np.dot(T[:,j], alpha[t-1, :]) * E[j, observations[t]]\n",
    "    alpha = normalise(alpha)\n",
    "    return alpha"
   ]
  },
  {
   "cell_type": "code",
   "execution_count": 74,
   "metadata": {},
   "outputs": [],
   "source": [
    "alpha = forward(observations, Pi, E, T)"
   ]
  },
  {
   "cell_type": "code",
   "execution_count": 75,
   "metadata": {
    "scrolled": true
   },
   "outputs": [],
   "source": [
    "# for t in range(MAX_TIME):\n",
    "#     est_state = get_state(np.argmax(alpha[t]))\n",
    "#     est_state.print()\n",
    "#     states[t].print()\n",
    "#     print()"
   ]
  },
  {
   "cell_type": "markdown",
   "metadata": {},
   "source": [
    "## Plots"
   ]
  },
  {
   "cell_type": "markdown",
   "metadata": {},
   "source": [
    "### Colormap"
   ]
  },
  {
   "cell_type": "code",
   "execution_count": 76,
   "metadata": {},
   "outputs": [],
   "source": [
    "def plot(data, title):\n",
    "    plt.imshow(data, cmap='bone', origin='upper')\n",
    "    plt.title(title)\n",
    "    plt.show()"
   ]
  },
  {
   "cell_type": "markdown",
   "metadata": {},
   "source": [
    "### Log-likelihood over states"
   ]
  },
  {
   "cell_type": "code",
   "execution_count": 77,
   "metadata": {
    "scrolled": true
   },
   "outputs": [],
   "source": [
    "# def plot_likelihood(alpha):\n",
    "#     %matplotlib\n",
    "#     im = None\n",
    "#     for t in range(MAX_TIME):\n",
    "#         data = np.log(alpha[t].reshape(GRID_SIZE,GRID_SIZE))\n",
    "#         if not im:\n",
    "#             im = plt.imshow(data, cmap='bone', origin='upper')\n",
    "#             plt.colorbar(im)\n",
    "#         else:\n",
    "#             im.set_data(data)\n",
    "#         plt.title(\"Log-likelood at time \"+ str(t))\n",
    "#         plt.draw()\n",
    "#         plt.pause(0.2)\n",
    "#     plt.close()"
   ]
  },
  {
   "cell_type": "code",
   "execution_count": 78,
   "metadata": {},
   "outputs": [
    {
     "name": "stdout",
     "output_type": "stream",
     "text": [
      "Using matplotlib backend: MacOSX\n"
     ]
    }
   ],
   "source": [
    "%matplotlib"
   ]
  },
  {
   "cell_type": "code",
   "execution_count": 79,
   "metadata": {},
   "outputs": [],
   "source": [
    "def plot_pred_ground(alpha, title):\n",
    "    fig, axes = plt.subplots(nrows=2, ncols=5, figsize=(8,8))\n",
    "    fig.suptitle(title)\n",
    "    t = 0\n",
    "    for ax in axes.flat:\n",
    "        ax.set_title('t='+str(t))\n",
    "        im = ax.imshow(np.log(alpha[t].reshape(GRID_SIZE,GRID_SIZE)), cmap='bone', origin='upper')\n",
    "        t += 1\n",
    "    fig.colorbar(im, ax=axes.ravel().tolist())\n",
    "    plt.show()"
   ]
  },
  {
   "cell_type": "code",
   "execution_count": 80,
   "metadata": {},
   "outputs": [],
   "source": [
    "plot_pred_ground(alpha, \"Log Likelihood - Filtering\")"
   ]
  },
  {
   "cell_type": "code",
   "execution_count": 81,
   "metadata": {
    "scrolled": true
   },
   "outputs": [],
   "source": [
    "for t in range(MAX_TIME):\n",
    "    data = np.log(alpha[t].reshape(GRID_SIZE,GRID_SIZE))\n",
    "    plot(data,\"Log-likelood at time \"+ str(t))"
   ]
  },
  {
   "cell_type": "code",
   "execution_count": 82,
   "metadata": {},
   "outputs": [],
   "source": [
    "# plot_likelihood(alpha)"
   ]
  },
  {
   "cell_type": "markdown",
   "metadata": {},
   "source": [
    "### Most probable state"
   ]
  },
  {
   "cell_type": "code",
   "execution_count": 83,
   "metadata": {},
   "outputs": [],
   "source": [
    "def plot_ground_pred(data, title):\n",
    "    fig, axes = plt.subplots(nrows=2, ncols=5, figsize=(8,8))\n",
    "    fig.suptitle(title)\n",
    "    t = 0\n",
    "    for ax in axes.flat:\n",
    "        ax.set_title('t='+str(t))\n",
    "        index = np.argmax(alpha[t])\n",
    "        pred_state = get_state(index)\n",
    "        true_state = states[t]\n",
    "        data = np.zeros((GRID_SIZE, GRID_SIZE))\n",
    "        if pred_state.row==true_state.row and pred_state.col==true_state.col:\n",
    "            data[true_state.row, true_state.col] = -0.25\n",
    "        else:\n",
    "            data[pred_state.row, pred_state.col] = -0.75\n",
    "            data[true_state.row, true_state.col] = -1.0\n",
    "        im = ax.imshow(data, cmap='pink', origin='upper')\n",
    "        t+=1\n",
    "    fig.colorbar(im, ax=axes.ravel().tolist())\n",
    "    plt.show()"
   ]
  },
  {
   "cell_type": "code",
   "execution_count": 84,
   "metadata": {},
   "outputs": [],
   "source": [
    "# def plot_ground_pred(data):\n",
    "#     %matplotlib inline\n",
    "#     for t in range(MAX_TIME):\n",
    "#         index = np.argmax(alpha[t])\n",
    "#         pred_state = get_state(index)\n",
    "#         true_state = states[t]\n",
    "#         data = np.zeros((GRID_SIZE, GRID_SIZE))\n",
    "#         if pred_state.row==true_state.row and pred_state.col==true_state.col:\n",
    "#             data[true_state.row, true_state.col] = -0.25\n",
    "#         else:\n",
    "#             data[pred_state.row, pred_state.col] = -0.75\n",
    "#             data[true_state.row, true_state.col] = -1.0\n",
    "#         plt.imshow(data, cmap='pink', origin='upper')\n",
    "#         plt.title(\"Predicted v/s Ground Truth at time \"+str(t))\n",
    "#         plt.show()"
   ]
  },
  {
   "cell_type": "code",
   "execution_count": 85,
   "metadata": {
    "scrolled": true
   },
   "outputs": [],
   "source": [
    "plot_ground_pred(alpha, \"Predicted v/s Ground Truth\")"
   ]
  },
  {
   "cell_type": "markdown",
   "metadata": {},
   "source": [
    "## Smoothing"
   ]
  },
  {
   "cell_type": "markdown",
   "metadata": {},
   "source": [
    "### Backward Algorithm"
   ]
  },
  {
   "cell_type": "code",
   "execution_count": 86,
   "metadata": {},
   "outputs": [],
   "source": [
    "def backward(observations, Pi, E, T):\n",
    "    beta = np.zeros((len(observations), Pi.shape[0]))\n",
    "    beta[len(observations)-1] = np.ones((Pi.shape[0]))\n",
    "    for t in range(len(observations)-2,-1,-1):\n",
    "        for j in range(Pi.shape[0]):\n",
    "            beta[t, j] = (beta[t + 1, :] * E[:, observations[t + 1]]).dot(T[j, :])\n",
    "    beta = normalise(beta)\n",
    "    return beta"
   ]
  },
  {
   "cell_type": "code",
   "execution_count": 87,
   "metadata": {},
   "outputs": [],
   "source": [
    "def forward_backward(observations, Pi, E, T):\n",
    "    alpha = forward(observations, Pi, E, T)\n",
    "    beta = backward(observations, Pi, E, T)\n",
    "    prob_dist = np.multiply(alpha, beta)\n",
    "    prob_dist = normalise(prob_dist)\n",
    "    return prob_dist"
   ]
  },
  {
   "cell_type": "code",
   "execution_count": 88,
   "metadata": {},
   "outputs": [],
   "source": [
    "prob_dist = forward_backward(observations, Pi, E, T)"
   ]
  },
  {
   "cell_type": "code",
   "execution_count": 89,
   "metadata": {
    "scrolled": true
   },
   "outputs": [],
   "source": [
    "plot_ground_pred(prob_dist, \"Predicted v/s Ground Truth - Smoothing\")"
   ]
  },
  {
   "cell_type": "markdown",
   "metadata": {},
   "source": [
    "## Decoding - Viterbi"
   ]
  },
  {
   "cell_type": "code",
   "execution_count": 90,
   "metadata": {},
   "outputs": [],
   "source": [
    "def viterbi(observations, Pi, E, T):\n",
    "    omega = np.zeros((len(observations), Pi.shape[0]))\n",
    "    omega[0, :] = np.log(Pi * E[:, observations[0]])\n",
    "    previous = np.zeros((len(observations)-1, Pi.shape[0]))\n",
    "    for t in range(1,len(observations)):\n",
    "        for j in range(Pi.shape[0]):\n",
    "            prob = omega[t-1] + np.log(T[:, j]) + np.log(E[j, observations[t]])\n",
    "            previous[t-1, j] = np.argmax(prob)\n",
    "            omega[t, j] = np.max(prob)\n",
    "    path = []\n",
    "    last_state = np.argmax(omega[len(observations)-1, :])\n",
    "    path.append(last_state)\n",
    "    for i in range(len(observations)-2,-1,-1):\n",
    "        path.append(previous[i,int(last_state)])\n",
    "        last_state = previous[i,int(last_state)]\n",
    "    path = list(map(int, list(path)[::-1]))\n",
    "    print(path)\n",
    "    return path"
   ]
  },
  {
   "cell_type": "code",
   "execution_count": 91,
   "metadata": {},
   "outputs": [
    {
     "name": "stdout",
     "output_type": "stream",
     "text": [
      "[489, 514, 539, 514, 489, 490, 465, 464, 489, 490]\n"
     ]
    },
    {
     "name": "stderr",
     "output_type": "stream",
     "text": [
      "/Users/navreetkaur/Library/Python/3.7/lib/python/site-packages/ipykernel_launcher.py:7: RuntimeWarning: divide by zero encountered in log\n",
      "  import sys\n"
     ]
    }
   ],
   "source": [
    "path = viterbi(observations, Pi, E, T)"
   ]
  },
  {
   "cell_type": "code",
   "execution_count": 92,
   "metadata": {},
   "outputs": [
    {
     "data": {
      "text/plain": [
       "([489, 514, 539, 514, 489, 490, 465, 464, 489, 490],\n",
       " [0, 1, 3, 0, 0, 2, 1, 0, 0, 2])"
      ]
     },
     "execution_count": 92,
     "metadata": {},
     "output_type": "execute_result"
    }
   ],
   "source": [
    "path, observations"
   ]
  },
  {
   "cell_type": "code",
   "execution_count": 93,
   "metadata": {},
   "outputs": [],
   "source": [
    "# for p in path:\n",
    "#     get_state(p).print()\n",
    "# print()\n",
    "# for o in observations:\n",
    "#     get_state(o).print()"
   ]
  },
  {
   "cell_type": "code",
   "execution_count": 94,
   "metadata": {},
   "outputs": [],
   "source": [
    "# def plot_path(path, observations):\n",
    "#     for i in range(len(path)):\n",
    "#         data = np.zeros((GRID_SIZE, GRID_SIZE))\n",
    "#         p = (path[i]//GRID_SIZE, path[i]%GRID_SIZE)\n",
    "#         o = (observations[i]//GRID_SIZE, observations[i]%GRID_SIZE)\n",
    "# #         print(path[i], observations[i], p, o)\n",
    "#         if p==o:\n",
    "#             data[p[0], p[1]] = -0.5\n",
    "#         else:\n",
    "#             data[p[0], p[1]] = -0.75\n",
    "#             data[o[0], o[1]] = -1.0\n",
    "#         plt.imshow(data, cmap='pink', origin='upper')\n",
    "#         plt.title(\"Most Likely v/s Ground Location at time \"+str(t))\n",
    "#         plt.show()"
   ]
  },
  {
   "cell_type": "code",
   "execution_count": 95,
   "metadata": {},
   "outputs": [],
   "source": [
    "def plot_path(path, observations, title):\n",
    "    fig, axes = plt.subplots(nrows=2, ncols=5, figsize=(8,8))\n",
    "    fig.suptitle(title)\n",
    "    t = 0\n",
    "    for ax in axes.flat:\n",
    "        ax.set_title('t='+str(t))\n",
    "        data = np.zeros((GRID_SIZE, GRID_SIZE))\n",
    "        p = (path[t]//GRID_SIZE, path[t]%GRID_SIZE)\n",
    "        o = (observations[t]//GRID_SIZE, observations[t]%GRID_SIZE)\n",
    "#         print(path[i], observations[i], p, o)\n",
    "        if p==o:\n",
    "            data[p[0], p[1]] = -0.5\n",
    "        else:\n",
    "            data[p[0], p[1]] = -0.75\n",
    "            data[o[0], o[1]] = -1.0\n",
    "        im = ax.imshow(data, cmap='pink', origin='upper')\n",
    "        t+=1\n",
    "    fig.colorbar(im, ax=axes.ravel().tolist())\n",
    "    plt.show()"
   ]
  },
  {
   "cell_type": "code",
   "execution_count": 96,
   "metadata": {},
   "outputs": [],
   "source": [
    "plot_path(path, observations, \"Most Likely v/s Ground Location\")"
   ]
  },
  {
   "cell_type": "markdown",
   "metadata": {},
   "source": [
    "### Manhattan Distance"
   ]
  },
  {
   "cell_type": "code",
   "execution_count": 97,
   "metadata": {},
   "outputs": [],
   "source": [
    "def compute_error(path, observations):\n",
    "    dist = []\n",
    "    for i in range(len(path)):\n",
    "        p = (path[i]//GRID_SIZE, path[i]%GRID_SIZE)\n",
    "        o = (observations[i]//GRID_SIZE, observations[i]%GRID_SIZE)\n",
    "        dist.append(abs(p[0]-o[0]) + abs(p[1]-o[1]))\n",
    "    return dist"
   ]
  },
  {
   "cell_type": "code",
   "execution_count": 56,
   "metadata": {},
   "outputs": [],
   "source": [
    "man_dist_5 = compute_error(path, observations)"
   ]
  },
  {
   "cell_type": "code",
   "execution_count": 57,
   "metadata": {},
   "outputs": [
    {
     "data": {
      "text/plain": [
       "21"
      ]
     },
     "execution_count": 57,
     "metadata": {},
     "output_type": "execute_result"
    }
   ],
   "source": [
    "sum(man_dist_5)"
   ]
  },
  {
   "cell_type": "code",
   "execution_count": 98,
   "metadata": {},
   "outputs": [],
   "source": [
    "man_dist_25 = compute_error(path, observations)"
   ]
  },
  {
   "cell_type": "code",
   "execution_count": 99,
   "metadata": {},
   "outputs": [
    {
     "data": {
      "text/plain": [
       "326"
      ]
     },
     "execution_count": 99,
     "metadata": {},
     "output_type": "execute_result"
    }
   ],
   "source": [
    "sum(man_dist_25)"
   ]
  },
  {
   "cell_type": "code",
   "execution_count": 102,
   "metadata": {},
   "outputs": [],
   "source": [
    "plt.figure(figsize=(8, 8))\n",
    "plt.plot(np.arange(MAX_TIME), man_dist_5, marker='o', label=\"5x5\")\n",
    "plt.plot(np.arange(MAX_TIME), man_dist_25, marker='o', label=\"25x25\")\n",
    "plt.title(\"Error b/w most likely and actual path\")\n",
    "plt.xlabel(\"Time\")\n",
    "plt.ylabel(\"Error\")\n",
    "plt.legend()\n",
    "plt.show()"
   ]
  },
  {
   "cell_type": "code",
   "execution_count": null,
   "metadata": {},
   "outputs": [],
   "source": []
  },
  {
   "cell_type": "code",
   "execution_count": null,
   "metadata": {},
   "outputs": [],
   "source": []
  }
 ],
 "metadata": {
  "kernelspec": {
   "display_name": "Python 3",
   "language": "python",
   "name": "python3"
  },
  "language_info": {
   "codemirror_mode": {
    "name": "ipython",
    "version": 3
   },
   "file_extension": ".py",
   "mimetype": "text/x-python",
   "name": "python",
   "nbconvert_exporter": "python",
   "pygments_lexer": "ipython3",
   "version": "3.7.0b3"
  }
 },
 "nbformat": 4,
 "nbformat_minor": 2
}
